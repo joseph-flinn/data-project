{
 "cells": [
  {
   "cell_type": "code",
   "execution_count": 2,
   "metadata": {},
   "outputs": [],
   "source": [
    "# Imports\n",
    "\n",
    "import pandas as pd\n",
    "from bs4 import BeautifulSoup\n",
    "from IPython.core.display import HTML\n",
    "import iplotter"
   ]
  },
  {
   "cell_type": "code",
   "execution_count": 3,
   "metadata": {},
   "outputs": [
    {
     "data": {
      "text/html": [
       "\n",
       "<style>\n",
       "iframe {border:0;}\n",
       "</style>\n"
      ],
      "text/plain": [
       "<IPython.core.display.HTML object>"
      ]
     },
     "execution_count": 3,
     "metadata": {},
     "output_type": "execute_result"
    }
   ],
   "source": [
    "# remove iFrame border for cleaner chart rendering\n",
    "# increase size of text explanations\n",
    "HTML(\"\"\"\n",
    "<style>\n",
    "iframe {border:0;}\n",
    "</style>\n",
    "\"\"\")"
   ]
  },
  {
   "cell_type": "code",
   "execution_count": 4,
   "metadata": {},
   "outputs": [],
   "source": [
    "# Data and tool setup\n",
    "\n",
    "with open(\"download.html\", 'r') as raw_data_file:\n",
    "    raw_data = raw_data_file.read()\n",
    "    \n",
    "soup = BeautifulSoup(raw_data, 'html.parser')\n",
    "reviews_html = soup.find_all(class_=\"review\")"
   ]
  },
  {
   "cell_type": "code",
   "execution_count": 5,
   "metadata": {},
   "outputs": [],
   "source": [
    "reviews = []\n",
    "\n",
    "for review in reviews_html:\n",
    "    temp_dict = {}\n",
    "    temp_dict[\"student\"] = review.find(class_=\"student\").text\n",
    "    temp_dict[\"school\"] = review.find(class_=\"school\").text\n",
    "    temp_dict[\"quote\"] = review.find(class_=\"quote\").text\n",
    "    \n",
    "    reviews.append(temp_dict)"
   ]
  },
  {
   "cell_type": "code",
   "execution_count": 6,
   "metadata": {},
   "outputs": [],
   "source": [
    "reviews_df = pd.DataFrame.from_dict(reviews)"
   ]
  },
  {
   "cell_type": "code",
   "execution_count": 7,
   "metadata": {},
   "outputs": [],
   "source": [
    "# Top 10 Universitis by reviews\n",
    "formatted_chart_data = []\n",
    "\n",
    "raw_chart_data = reviews_df.groupby('school').count().sort_values(by=[\"student\"], ascending=False)[:10][[\"student\"]].to_dict('index')\n",
    "\n",
    "for key, value in raw_chart_data.items():\n",
    "    temp_list = [key]\n",
    "    temp_list.append(value[\"student\"])\n",
    "    \n",
    "    formatted_chart_data.append(temp_list)"
   ]
  },
  {
   "cell_type": "code",
   "execution_count": 8,
   "metadata": {},
   "outputs": [
    {
     "name": "stderr",
     "output_type": "stream",
     "text": [
      "/opt/conda/lib/python3.7/site-packages/IPython/core/display.py:694: UserWarning: Consider using IPython.display.IFrame instead\n",
      "  warnings.warn(\"Consider using IPython.display.IFrame instead\")\n"
     ]
    },
    {
     "data": {
      "text/html": [
       "<iframe srcdoc=\"\n",
       "        <!-- Load c3.css -->\n",
       "        <link href='https://cdnjs.cloudflare.com/ajax/libs/c3/0.4.10/c3.min.css' rel='stylesheet' type='text/css'/>\n",
       "\n",
       "        <!-- Load d3.js and c3.js -->\n",
       "        <script src='http://d3js.org/d3.v3.min.js' charset='utf-8'></script>\n",
       "        <script src='http://cdnjs.cloudflare.com/ajax/libs/c3/0.4.10/c3.min.js'></script>\n",
       "\n",
       "    \n",
       "        <div id=chart style='width: 100%; height: 100%'></div>\n",
       "        <script>\n",
       "            var chart = document.getElementById('chart');\n",
       "            var data = {\n",
       "    'data': {\n",
       "        'columns': [\n",
       "            [\n",
       "                'Ross University',\n",
       "                66\n",
       "            ],\n",
       "            [\n",
       "                'Edward Via College of Osteopathic Medicine',\n",
       "                31\n",
       "            ],\n",
       "            [\n",
       "                'Rush University',\n",
       "                16\n",
       "            ],\n",
       "            [\n",
       "                'American University of the Caribbean',\n",
       "                16\n",
       "            ],\n",
       "            [\n",
       "                'University of Illinois at Chicago',\n",
       "                15\n",
       "            ],\n",
       "            [\n",
       "                'Lake Erie College of Osteopathic Medicine',\n",
       "                14\n",
       "            ],\n",
       "            [\n",
       "                'St George\\'s University',\n",
       "                13\n",
       "            ],\n",
       "            [\n",
       "                'Midwestern University',\n",
       "                13\n",
       "            ],\n",
       "            [\n",
       "                'Touro University, CA',\n",
       "                12\n",
       "            ],\n",
       "            [\n",
       "                'Saint James School of Medicine',\n",
       "                10\n",
       "            ]\n",
       "        ],\n",
       "        'type': 'bar'\n",
       "    },\n",
       "    'axis': {\n",
       "        'x': {\n",
       "            'label': 'Universities',\n",
       "            'tick': {\n",
       "                'fit': 'false'\n",
       "            }\n",
       "        },\n",
       "        'y': {\n",
       "            'label': 'Number of Reviews'\n",
       "        }\n",
       "    }\n",
       "};\n",
       "            data['bindto']='#chart'\n",
       "            c3.generate(data);\n",
       "        </script>\n",
       "    \" src=\"\" width=\"800\" height=\"420\" frameborder=0 sandbox=\"allow-scripts\"></iframe>"
      ],
      "text/plain": [
       "<IPython.core.display.HTML object>"
      ]
     },
     "execution_count": 8,
     "metadata": {},
     "output_type": "execute_result"
    }
   ],
   "source": [
    "# define and plot chart\n",
    "chart = {\n",
    "    \"data\": {\n",
    "        \"columns\": formatted_chart_data,\n",
    "     \"type\": 'bar'\n",
    "            },\n",
    "     \"axis\": {\n",
    "        \"x\": {\n",
    "            \"label\": 'Universities',\n",
    "            \"tick\": {\n",
    "                \"fit\": \"false\"\n",
    "            }\n",
    "        },\n",
    "        \"y\": {\n",
    "            \"label\": 'Number of Reviews'\n",
    "        }\n",
    "    }\n",
    "}\n",
    "\n",
    "c3_plotter = iplotter.C3Plotter()\n",
    "c3_plotter.plot(chart)"
   ]
  },
  {
   "cell_type": "code",
   "execution_count": null,
   "metadata": {},
   "outputs": [],
   "source": []
  }
 ],
 "metadata": {
  "kernelspec": {
   "display_name": "Python 3",
   "language": "python",
   "name": "python3"
  },
  "language_info": {
   "codemirror_mode": {
    "name": "ipython",
    "version": 3
   },
   "file_extension": ".py",
   "mimetype": "text/x-python",
   "name": "python",
   "nbconvert_exporter": "python",
   "pygments_lexer": "ipython3",
   "version": "3.7.3"
  }
 },
 "nbformat": 4,
 "nbformat_minor": 4
}
